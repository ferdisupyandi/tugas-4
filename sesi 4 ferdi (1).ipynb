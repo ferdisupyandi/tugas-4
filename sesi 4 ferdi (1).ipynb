{
 "cells": [
  {
   "cell_type": "code",
   "execution_count": null,
   "id": "4fbf71f8",
   "metadata": {},
   "outputs": [],
   "source": [
    "bil1 = input('isikan bilangan 1')\n",
    "bil2 = input('isikan bilangan 2')\n",
    "hasil = int(bil1) + int(bil2)\n",
    "print(\"hasil\",bil1, \"+\" ,bil2, \"=\", hasil)"
   ]
  },
  {
   "cell_type": "code",
   "execution_count": 12,
   "id": "1099f538",
   "metadata": {},
   "outputs": [
    {
     "name": "stdout",
     "output_type": "stream",
     "text": [
      "panjang23\n",
      "lebar35\n",
      "hasil 23 * 35 = 805\n"
     ]
    }
   ],
   "source": [
    "bil1 = input('panjang')\n",
    "bil2 = input('lebar')\n",
    "hasil = int(bil1) * int(bil2)\n",
    "print(\"hasil\",bil1, \"*\" ,bil2, \"=\", hasil)"
   ]
  },
  {
   "cell_type": "code",
   "execution_count": 24,
   "id": "4595e32d",
   "metadata": {},
   "outputs": [
    {
     "name": "stdout",
     "output_type": "stream",
     "text": [
      "bilangan 146\n",
      "bilangan 287\n",
      "hasil 46 * 87 = 8\n",
      "\n"
     ]
    }
   ],
   "source": [
    "bil1 = input('bilangan 1')\n",
    "bil2 = input('bilangan 2')\n",
    "luas = int(bil1) * int(bil2)\n",
    "keliling = 2 * int(bil1) * int(bil2)\n",
    "print(\"hasil\",bil1, \"*\" ,bil2, \"=\", hasil)\n",
    "print(\"\")"
   ]
  },
  {
   "cell_type": "code",
   "execution_count": 27,
   "id": "329dddc5",
   "metadata": {},
   "outputs": [
    {
     "name": "stdout",
     "output_type": "stream",
     "text": [
      "1\n",
      "2\n",
      "3\n",
      "4 ferdi"
     ]
    }
   ],
   "source": [
    "print(\"1\",\"2\",\"3\",\"4\", sep='\\n', end=\" ferdi\")"
   ]
  },
  {
   "cell_type": "code",
   "execution_count": 31,
   "id": "9b66b97c",
   "metadata": {},
   "outputs": [
    {
     "name": "stdout",
     "output_type": "stream",
     "text": [
      "hasil dari 4 modulus 3 = 1\n"
     ]
    }
   ],
   "source": [
    "num_1 = 4\n",
    "num_2 = 3\n",
    "\n",
    "#hasil dari 4 modulus 3 = 1\n",
    "\n",
    "print('hasil dari {} modulus {} = {}'.format(num_1,num_2,num_1%num_2))"
   ]
  },
  {
   "cell_type": "code",
   "execution_count": 40,
   "id": "f729f27a",
   "metadata": {},
   "outputs": [
    {
     "ename": "TypeError",
     "evalue": "format expected at most 2 arguments, got 3",
     "output_type": "error",
     "traceback": [
      "\u001b[1;31m---------------------------------------------------------------------------\u001b[0m",
      "\u001b[1;31mTypeError\u001b[0m                                 Traceback (most recent call last)",
      "Input \u001b[1;32mIn [40]\u001b[0m, in \u001b[0;36m<cell line: 5>\u001b[1;34m()\u001b[0m\n\u001b[0;32m      2\u001b[0m mname \u001b[38;5;241m=\u001b[39m \u001b[38;5;124m\"\u001b[39m\u001b[38;5;124mbobo\u001b[39m\u001b[38;5;124m\"\u001b[39m\n\u001b[0;32m      3\u001b[0m iname \u001b[38;5;241m=\u001b[39m \u001b[38;5;124m\"\u001b[39m\u001b[38;5;124msisi\u001b[39m\u001b[38;5;124m\"\u001b[39m\n\u001b[1;32m----> 5\u001b[0m \u001b[38;5;28mprint\u001b[39m(\u001b[38;5;124m'\u001b[39m\u001b[38;5;124mnama anda \u001b[39m\u001b[38;5;132;01m{2}\u001b[39;00m\u001b[38;5;124m \u001b[39m\u001b[38;5;132;01m{1}\u001b[39;00m\u001b[38;5;124m \u001b[39m\u001b[38;5;132;01m{0}\u001b[39;00m\u001b[38;5;124m'\u001b[39m, \u001b[38;5;28;43mformat\u001b[39;49m\u001b[43m(\u001b[49m\u001b[43mfname\u001b[49m\u001b[43m,\u001b[49m\u001b[43mmname\u001b[49m\u001b[43m,\u001b[49m\u001b[43miname\u001b[49m\u001b[43m)\u001b[49m)\n",
      "\u001b[1;31mTypeError\u001b[0m: format expected at most 2 arguments, got 3"
     ]
    }
   ],
   "source": [
    "fname = \"ferdi\"\n",
    "mname = \"bobo\"\n",
    "iname = \"sisi\"\n",
    "\n",
    "print('nama anda {2} {1} {0}', format(fname,mname,iname))"
   ]
  },
  {
   "cell_type": "code",
   "execution_count": 52,
   "id": "4d2f7ac8",
   "metadata": {},
   "outputs": [
    {
     "name": "stdout",
     "output_type": "stream",
     "text": [
      "karakter pertama  :  u\n",
      "karakter terakhir :  a\n",
      "universitas put\n",
      "tas\n"
     ]
    }
   ],
   "source": [
    "univ = (\"universitas putra\")\n",
    "\n",
    "print(\"karakter pertama  : \",univ[0])\n",
    "print(\"karakter terakhir : \",univ[-1])\n",
    "#universitas\n",
    "print(univ[0:15])\n",
    "print(univ[-9:-6])"
   ]
  },
  {
   "cell_type": "code",
   "execution_count": 53,
   "id": "10d524a3",
   "metadata": {},
   "outputs": [
    {
     "name": "stdout",
     "output_type": "stream",
     "text": [
      "hasil penjumlahan {gmane} + {kmane} = {gmane+kmane}\n"
     ]
    }
   ],
   "source": [
    "gmane = '2'\n",
    "kmane = '5'\n",
    "\n",
    "print('hasil penjumlahan {gmane} + {kmane} = {gmane+kmane}')"
   ]
  },
  {
   "cell_type": "code",
   "execution_count": null,
   "id": "34439cf2",
   "metadata": {},
   "outputs": [],
   "source": [
    "nama = \"ada,adu,ade\"\n",
    "nama2 = \"ada,adu,ade\"\n",
    "#split -> memisahkan string berdasaarkan karakter tertentu\n",
    "print(nama2.split(' '))\n",
    "print(nama.split(','))\n",
    "\n",
    "#join -> menggabungkan string kedalam kumpulan karakter\n",
    "print('@'.join(nama.split(',')))\n",
    "\n",
    "#input tgl lahir -> 9/mei/2000\n",
    "#input nama -> bill gate\n",
    "#output :\n",
    "#tgl : 9, bulan:mei, tahun:2000\n",
    "#nama inisial : bg\n",
    "\n",
    "tgl = input(\"masukan tanggal lahir\")\n",
    "nama = input(\"masukan nama\")\n",
    "pemisah = tgl.split('/')\n",
    "print(f\"tanggal : {pemisah(0)}, bulan : {pemisah(1)}, tahun : {pemisah(2)}\")\n",
    "pemisah2 = nama.split()\n",
    "nama_pertama = pemisah2[0]\n",
    "nama_terakhir = pemisah2[1]\n",
    "print(f\"nama inisial : {nama_pertama[0]+nama_terakhir[0]}\")\n"
   ]
  },
  {
   "cell_type": "code",
   "execution_count": null,
   "id": "cb7815fc",
   "metadata": {},
   "outputs": [],
   "source": []
  },
  {
   "cell_type": "code",
   "execution_count": null,
   "id": "ba8e5c4b",
   "metadata": {},
   "outputs": [],
   "source": []
  }
 ],
 "metadata": {
  "kernelspec": {
   "display_name": "Python 3 (ipykernel)",
   "language": "python",
   "name": "python3"
  },
  "language_info": {
   "codemirror_mode": {
    "name": "ipython",
    "version": 3
   },
   "file_extension": ".py",
   "mimetype": "text/x-python",
   "name": "python",
   "nbconvert_exporter": "python",
   "pygments_lexer": "ipython3",
   "version": "3.9.12"
  }
 },
 "nbformat": 4,
 "nbformat_minor": 5
}
